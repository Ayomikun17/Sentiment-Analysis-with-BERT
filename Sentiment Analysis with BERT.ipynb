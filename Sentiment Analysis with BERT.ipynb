{
 "cells": [
  {
   "cell_type": "markdown",
   "id": "c7d34605",
   "metadata": {},
   "source": [
    "### Importing Dependencies"
   ]
  },
  {
   "cell_type": "code",
   "execution_count": 1,
   "id": "3ea82f74",
   "metadata": {},
   "outputs": [],
   "source": [
    "import torch\n",
    "from transformers import AutoTokenizer, AutoModelForSequenceClassification\n",
    "import requests\n",
    "from bs4 import BeautifulSoup\n",
    "import re\n",
    "import pandas as pd\n",
    "import numpy as np"
   ]
  },
  {
   "cell_type": "markdown",
   "id": "94d9fa77",
   "metadata": {},
   "source": [
    "Install:\n",
    "<ul>\n",
    "    <li>Transformers</li>\n",
    "    <li>BeautifulSoup</li>\n",
    "    <li>Pillow</li>\n",
    "    <li>Requests</li>\n",
    "    <li>Pytorch</li>\n",
    "</ul>\n"
   ]
  },
  {
   "cell_type": "markdown",
   "id": "b2860643",
   "metadata": {},
   "source": [
    "#### Loading the Tokenizer and the `nlptown/bert-base-multilingual-uncased-sentiment` model from HuggingFace"
   ]
  },
  {
   "cell_type": "code",
   "execution_count": 5,
   "id": "260bf711",
   "metadata": {},
   "outputs": [
    {
     "name": "stderr",
     "output_type": "stream",
     "text": [
      "C:\\Users\\hp\\anaconda3\\lib\\site-packages\\transformers\\tokenization_utils_base.py:1601: FutureWarning: `clean_up_tokenization_spaces` was not set. It will be set to `True` by default. This behavior will be depracted in transformers v4.45, and will be then set to `False` by default. For more details check this issue: https://github.com/huggingface/transformers/issues/31884\n",
      "  warnings.warn(\n"
     ]
    }
   ],
   "source": [
    "tokenizer = AutoTokenizer.from_pretrained('nlptown/bert-base-multilingual-uncased-sentiment')\n",
    "model = AutoModelForSequenceClassification.from_pretrained('nlptown/bert-base-multilingual-uncased-sentiment')"
   ]
  },
  {
   "cell_type": "code",
   "execution_count": 48,
   "id": "b15e3bb2",
   "metadata": {},
   "outputs": [
    {
     "data": {
      "text/plain": [
       "tensor([[  101, 10525, 10243, 10197, 10140, 12050,   117, 12296, 10346, 16197,\n",
       "           102]])"
      ]
     },
     "execution_count": 48,
     "metadata": {},
     "output_type": "execute_result"
    }
   ],
   "source": [
    "# Converting a sentence to tokens\n",
    "# return_tensors = 'pt' because we are working with PyTorch\n",
    "tokens = tokenizer.encode('Meh it was good, could be better', return_tensors = 'pt')\n",
    "tokens"
   ]
  },
  {
   "cell_type": "code",
   "execution_count": 49,
   "id": "bd98a924",
   "metadata": {},
   "outputs": [
    {
     "data": {
      "text/plain": [
       "'[CLS] meh it was good, could be better [SEP]'"
      ]
     },
     "execution_count": 49,
     "metadata": {},
     "output_type": "execute_result"
    }
   ],
   "source": [
    "# Decoding the tokens to form a sentence\n",
    "# CLS -> Start of the sentence and, SEP -> End of the sentence\n",
    "tokenizer.decode(tokens[0])"
   ]
  },
  {
   "cell_type": "code",
   "execution_count": 50,
   "id": "7915e714",
   "metadata": {},
   "outputs": [
    {
     "data": {
      "text/plain": [
       "SequenceClassifierOutput(loss=None, logits=tensor([[-0.6054,  1.9678,  2.7688, -0.4658, -3.0271]],\n",
       "       grad_fn=<AddmmBackward0>), hidden_states=None, attentions=None)"
      ]
     },
     "execution_count": 50,
     "metadata": {},
     "output_type": "execute_result"
    }
   ],
   "source": [
    "result = model(tokens)\n",
    "result"
   ]
  },
  {
   "cell_type": "code",
   "execution_count": 51,
   "id": "34873cc3",
   "metadata": {},
   "outputs": [
    {
     "data": {
      "text/plain": [
       "tensor([[-0.6054,  1.9678,  2.7688, -0.4658, -3.0271]],\n",
       "       grad_fn=<AddmmBackward0>)"
      ]
     },
     "execution_count": 51,
     "metadata": {},
     "output_type": "execute_result"
    }
   ],
   "source": [
    "result.logits"
   ]
  },
  {
   "cell_type": "code",
   "execution_count": 52,
   "id": "410b477d",
   "metadata": {},
   "outputs": [
    {
     "data": {
      "text/plain": [
       "tensor(2)"
      ]
     },
     "execution_count": 52,
     "metadata": {},
     "output_type": "execute_result"
    }
   ],
   "source": [
    "torch.argmax(result.logits)"
   ]
  },
  {
   "cell_type": "markdown",
   "id": "d9b67125",
   "metadata": {},
   "source": [
    "Since the index starts at `0`, but the sentiment categories in this model range from 1 to 5 (1 meaning very bad and 5 meaning good), you need to add `1` to the result to map the indices properly to the sentiment categories.\n",
    "Instead of getting a zero rating which is not possible you get 1."
   ]
  },
  {
   "cell_type": "code",
   "execution_count": 53,
   "id": "cf07d209",
   "metadata": {},
   "outputs": [
    {
     "data": {
      "text/plain": [
       "3"
      ]
     },
     "execution_count": 53,
     "metadata": {},
     "output_type": "execute_result"
    }
   ],
   "source": [
    "int(torch.argmax(result.logits))+1"
   ]
  },
  {
   "cell_type": "markdown",
   "id": "7d696063",
   "metadata": {},
   "source": [
    "### Scrapping the Yelp website for Restaruant Reviews"
   ]
  },
  {
   "cell_type": "code",
   "execution_count": 12,
   "id": "97972b81",
   "metadata": {},
   "outputs": [],
   "source": [
    "request_url = requests.get('https://www.yelp.com/biz/sotto-mare-san-francisco-4?osq=Restaurants')\n",
    "soup = BeautifulSoup(request_url.text, 'html.parser')\n",
    "regex = re.compile('.*comment.*')\n",
    "outputs = soup.find_all('p', {'class': regex})\n",
    "reviews = [output.text for output in outputs]"
   ]
  },
  {
   "cell_type": "code",
   "execution_count": 13,
   "id": "cd534678",
   "metadata": {},
   "outputs": [
    {
     "data": {
      "text/plain": [
       "[\"Really good ! It is worth it waiting a line !And we went to 4:30 but it is start 5:00 pm Ant that time many people waited int front of the door. If you go to 5 pm you don't need to waiting\",\n",
       " \"Excellent!  We had a great time and a great experience.  Made last minute reservations (so thankful there was an opening!) for a party of four.  The service was prompt, the food was tasty (and not salty!), and the ambience was festive.  We ordered the cioppino, salads, scallops, clam chowder, and a pasta dish ... all were so good.  Bottle of chardonnay and space dust on draft to accompany.  Will come back at next opportunity!  One suggestion:  How 'bout a military discount:)!\",\n",
       " \"Reserved here for a party of 4 birthday dinner and it was absolutely excellent seafood with Italian style. We were seated below and it was comfortably out of the cold. Service was attentive and who doesn't love some bread appetizer! Best Crab Cioppono: terrific/5, full of shrimp, clam, octopus, mini shrimp, a little penne. I must say I loved the broth and finished it off for our group. Good flavor, balanced! Lobster ravioli: a treat. The sauce is so good as a creamy and hearty addition to the ravioli itself, which is filled with a tasty lobster filling! So glad to haveBay scallop fettucine: lovely light seafood flavor. The fettuccine was not al dente, but still enjoyable. Good to pair with a lighter white wine, but overpowered by our chardonnay. The wine was good though. Overall, a highlight of my time in SF and worth a visit if you don't oft have Italian seafood, the dishes were lovely.\",\n",
       " \"I have actually left a 5 star review in the past and we have came here ALOT in the past, I am not sure what happened to that review. This review I should of put 2 stars because our crab cioppino barely had crab in it. It only had the regular amount of crab and I paid the extra for extra crab! There was A lot of past noodles and I they even brought pasta noodles on the side. Which I thought they were doing that because our waitress said we order extra crab so they would put the noodles on the side.  No ours came with ALOT of noodles. Not the extra crab I paid for.No Mussels, no small while clams. Only some shrimp A lot of pasta, and I think it's calamari not sure but small piece of that too. We did not realize until we got home. We had leftovers (more of the sauce and pasta)I asked my partner when we ate there in the past didn't the cioppino come with mussels and clams. She sat there thinking and was like yeah you're right. So then I come here to look at pictures and low and behold it does come with it! Even the picture on the website shows this! So why was it left out of ours! Pretty disappointed because I paid extra for crab and we got alot of pasta.We use to come here a lot in the past. Why would you leave out the other stuff that comes in it and skimp out on everything else but add more pasta. My partner mentioned taking the rest of my family here to celebrate for my certification and have dinner here but now I'm like no because they left out the mussels and clams. I wish I remembered that there so I could of mentioned it!\",\n",
       " \"Memorably delicious.  We understood the assignment.  A group of six arrived at Sotto Mare for our 5:15pm reservation in anticipation of what has been called by many as THE BEST cioppino.  Escorted down to the basement where two smaller rooms revealed themselves.  First to arrive, it felt more like a private party of intimate friends.   Within minutes the room was filled and a cacophony of languages overtook the room.  It seemed a mix of regulars and first time visitors.Seriously, we zeroed in on a few green salads, the french bread with butter, and the ever famous seafood stew.  In fact we started with two pots then adding on a third pot of cioppino.  So much goodness!  While each pot had generous portions of clams, mussels, shrimp, dungeness crab and penne pasta, we still wanted more.  Until our bellies just couldn't take any more.  Good think I wore my elastic waisted pants, in preparation of this evening.  Hahah.  Good food, great company, a little bit of red, a little bit of white, and whole lotta delicious seafood.  Does it get any better than this?!Thank you Mike C for gathering us  for this memorable meal.  Thank you AL, Ed, Dennis and Shirley for introducing me to the goodness within the walls of Sotto Mare.  Would I return?  For that ahmazing cioppino and great company for sure!\",\n",
       " 'This popular eatery is located in little Italy, North Beach.  It is not only popular with the locals, but the visitors.  Reservations are only accepted for larger groups.  Going early is your best option for a shorter wait.  After check in you will be given a restaurant pager notifying you when your table is ready.The cioppino is a popular dish loaded with seafood, but not my favorite.  My usuals are the seafood risottos and the saute scallops.',\n",
       " \"Food seems to taste better with your loved ones and whew, this review is long overdue. My gf and I came nice and early so there was no wait. All we got was the cioppino and bay scallop fettuccine which theoretically should have fed 3-4 people but oops, we finished it all. The cioppino is a tomato stew of nothing but seafood and phew, we cleaned house with it. Crab legs, mussels, shrimp, clams littered the trash bucket as we plowed through spoon after spoon. The tomato stew was amazing with the bread they provided. It was all amazing frankly.The bay scallop fettuccine was also amazing. Nice and creamy and bay scallops that tasted oh so fresh. Even now my mouth waters just thinking about them.So yeah, my gf and I definitely ate more than we expected but maybe that's what happens when you're hungry and eating amazing food up in Bay Area.\",\n",
       " \"Sotto Mare is one of many delicious seafood restaurants out here in SF. However, everyone and their mother loves this place too so if you're coming here for dinner, you can expect to wait at least an hour. If you come for lunch, the wait is much better. It's small here but when has that ever stopped anyone from delicious food? As the other thousand reviews have already said, the best damn crab cioppino is the must try. Why is it called that? Well you better damn well order it and find out! It's big enough to feed 2 people and there is no shortage of seafood. The ratio of seafood to pasta in this dish is like 3:1 so eat up. If you're looking for some good starters, clam chowder is great. But then again, so is anything else on the menu.So there you go, Sotte Mare in all it's splendor and glory. Do try to go during non-peak meal times.\",\n",
       " 'Excellent prices, food quality and service! I still dream about the ciopino amd sautéed scallops and shrimp. Scrumptious!',\n",
       " '5 STARS.Sotto Mare is easily one of the best places to have a true San Francisco meal because their specialty is one of the most famous dishes created in SF: cioppino! Come hungry to Sotto Mare because the portion sizes are humongous. They don\\'t take reservations so be sure to arrive either before 5:30pm or after 7:30pm (to avoid the rush). Here\\'s what to order:- The \"Best Damn Crab Cioppino\" (5 stars, $54.95): this dish is big enough for 2, maybe even 3 people. It\\'s the best cioppino I\\'ve ever tried in my life. It\\'s a huge bowl full of clams, mussels, squid, crab, in a tomato based broth that isn\\'t too liquidy. It\\'s delicious with the bread they serve!- West coast oysters (4 stars, $2/oyster): delicious west coast oysters are an amazing appetizer to share- Blue cheese wedge salad (4 stars, $10): huge salad to share as an appetizer as wellThe service is fast and friendly. The owners are the nicest people you\\'ll ever meet. I used to live in San Francisco and this would be one of my go-to places on the weekends. Now I have to travel up there to go eat here, but it\\'s a MUST try!',\n",
       " \"Classic SF. They know what they're doing. Nice menu that is very focused and allows everyone to get in and out quickly, if need be. That's helpful if you are waiting for a table. Friday evening, 5pm, post-SF Sea Music Festival down at Aquatic Park. Outdoor seating full already, but 2 seats at the counter were fantastic. Hot tip: if you do like to watch the cooks, try to get seated allllll the way down at the end of the bar for a front-row show. Also, if it's warm in there, they have a fan at the far end so you'll feel a nice cool breeze the whole time. There's also a couple of tables back there where you'll also feel it.We were seated and brought water and a bread basket immediately. Everyone is super efficient and we quickly were offered/given drinks, and our order taken. The buzzy beehive went on around us everywhere and all the employees seemed to like working together...they better because it's tight quarters behind the counter and in the rest of the restaurant. We had west coast oysters, and I added on an oyster shooter. All were fresh and delicious. I guess we were in the mood for clams because hubby ordered clams with linguine and I ordered clam steamers in broth (knowing I'd be dipping that bread basket bread in there). They were the same price and hubby's had a TON of clams, and mine (with no noodles) had TWO TONS of clams. Point being there was more than enough food with both dishes. And the manila clams are just what you want....tiny and flavorful. And that was that. We definitely want to split the crab cioppino next time - the couple next to us had it and it looked fantastic. Friendly service, quick in and out (although you could linger if you want, I suspect) and good portions. Love, love, love and will be back.\"]"
      ]
     },
     "execution_count": 13,
     "metadata": {},
     "output_type": "execute_result"
    }
   ],
   "source": [
    "reviews"
   ]
  },
  {
   "cell_type": "code",
   "execution_count": 15,
   "id": "e5cb5314",
   "metadata": {},
   "outputs": [],
   "source": [
    "# Converting the scrapped reviews into Data Frame\n",
    "df = pd.DataFrame(np.array(reviews), columns = ['review'])"
   ]
  },
  {
   "cell_type": "code",
   "execution_count": 16,
   "id": "0516f1c7",
   "metadata": {},
   "outputs": [
    {
     "data": {
      "text/html": [
       "<div>\n",
       "<style scoped>\n",
       "    .dataframe tbody tr th:only-of-type {\n",
       "        vertical-align: middle;\n",
       "    }\n",
       "\n",
       "    .dataframe tbody tr th {\n",
       "        vertical-align: top;\n",
       "    }\n",
       "\n",
       "    .dataframe thead th {\n",
       "        text-align: right;\n",
       "    }\n",
       "</style>\n",
       "<table border=\"1\" class=\"dataframe\">\n",
       "  <thead>\n",
       "    <tr style=\"text-align: right;\">\n",
       "      <th></th>\n",
       "      <th>review</th>\n",
       "    </tr>\n",
       "  </thead>\n",
       "  <tbody>\n",
       "    <tr>\n",
       "      <th>0</th>\n",
       "      <td>Really good ! It is worth it waiting a line !A...</td>\n",
       "    </tr>\n",
       "    <tr>\n",
       "      <th>1</th>\n",
       "      <td>Excellent!  We had a great time and a great ex...</td>\n",
       "    </tr>\n",
       "    <tr>\n",
       "      <th>2</th>\n",
       "      <td>Reserved here for a party of 4 birthday dinner...</td>\n",
       "    </tr>\n",
       "    <tr>\n",
       "      <th>3</th>\n",
       "      <td>I have actually left a 5 star review in the pa...</td>\n",
       "    </tr>\n",
       "    <tr>\n",
       "      <th>4</th>\n",
       "      <td>Memorably delicious.  We understood the assign...</td>\n",
       "    </tr>\n",
       "  </tbody>\n",
       "</table>\n",
       "</div>"
      ],
      "text/plain": [
       "                                              review\n",
       "0  Really good ! It is worth it waiting a line !A...\n",
       "1  Excellent!  We had a great time and a great ex...\n",
       "2  Reserved here for a party of 4 birthday dinner...\n",
       "3  I have actually left a 5 star review in the pa...\n",
       "4  Memorably delicious.  We understood the assign..."
      ]
     },
     "execution_count": 16,
     "metadata": {},
     "output_type": "execute_result"
    }
   ],
   "source": [
    "df.head()"
   ]
  },
  {
   "cell_type": "code",
   "execution_count": 37,
   "id": "7378126e",
   "metadata": {},
   "outputs": [],
   "source": [
    "# Function to determine the sentiment score\n",
    "def sentiment_score(review):\n",
    "    tokens = tokenizer.encode(review, return_tensors = 'pt')\n",
    "    result = model(tokens)\n",
    "    return int(torch.argmax(result.logits))+ 1"
   ]
  },
  {
   "cell_type": "code",
   "execution_count": 39,
   "id": "c1e4dacd",
   "metadata": {},
   "outputs": [],
   "source": [
    "# We use 512 because we can only have 512 tokens passed \n",
    "df['sentiment'] = df['review'].apply(lambda x: sentiment_score(x[:512]))"
   ]
  },
  {
   "cell_type": "code",
   "execution_count": 40,
   "id": "0af10fd6",
   "metadata": {},
   "outputs": [
    {
     "data": {
      "text/html": [
       "<div>\n",
       "<style scoped>\n",
       "    .dataframe tbody tr th:only-of-type {\n",
       "        vertical-align: middle;\n",
       "    }\n",
       "\n",
       "    .dataframe tbody tr th {\n",
       "        vertical-align: top;\n",
       "    }\n",
       "\n",
       "    .dataframe thead th {\n",
       "        text-align: right;\n",
       "    }\n",
       "</style>\n",
       "<table border=\"1\" class=\"dataframe\">\n",
       "  <thead>\n",
       "    <tr style=\"text-align: right;\">\n",
       "      <th></th>\n",
       "      <th>review</th>\n",
       "      <th>sentiment</th>\n",
       "    </tr>\n",
       "  </thead>\n",
       "  <tbody>\n",
       "    <tr>\n",
       "      <th>0</th>\n",
       "      <td>Really good ! It is worth it waiting a line !A...</td>\n",
       "      <td>3</td>\n",
       "    </tr>\n",
       "    <tr>\n",
       "      <th>1</th>\n",
       "      <td>Excellent!  We had a great time and a great ex...</td>\n",
       "      <td>4</td>\n",
       "    </tr>\n",
       "    <tr>\n",
       "      <th>2</th>\n",
       "      <td>Reserved here for a party of 4 birthday dinner...</td>\n",
       "      <td>4</td>\n",
       "    </tr>\n",
       "    <tr>\n",
       "      <th>3</th>\n",
       "      <td>I have actually left a 5 star review in the pa...</td>\n",
       "      <td>1</td>\n",
       "    </tr>\n",
       "    <tr>\n",
       "      <th>4</th>\n",
       "      <td>Memorably delicious.  We understood the assign...</td>\n",
       "      <td>4</td>\n",
       "    </tr>\n",
       "    <tr>\n",
       "      <th>5</th>\n",
       "      <td>This popular eatery is located in little Italy...</td>\n",
       "      <td>3</td>\n",
       "    </tr>\n",
       "    <tr>\n",
       "      <th>6</th>\n",
       "      <td>Food seems to taste better with your loved one...</td>\n",
       "      <td>1</td>\n",
       "    </tr>\n",
       "    <tr>\n",
       "      <th>7</th>\n",
       "      <td>Sotto Mare is one of many delicious seafood re...</td>\n",
       "      <td>3</td>\n",
       "    </tr>\n",
       "    <tr>\n",
       "      <th>8</th>\n",
       "      <td>Excellent prices, food quality and service! I ...</td>\n",
       "      <td>4</td>\n",
       "    </tr>\n",
       "    <tr>\n",
       "      <th>9</th>\n",
       "      <td>5 STARS.Sotto Mare is easily one of the best p...</td>\n",
       "      <td>4</td>\n",
       "    </tr>\n",
       "    <tr>\n",
       "      <th>10</th>\n",
       "      <td>Classic SF. They know what they're doing. Nice...</td>\n",
       "      <td>3</td>\n",
       "    </tr>\n",
       "  </tbody>\n",
       "</table>\n",
       "</div>"
      ],
      "text/plain": [
       "                                               review  sentiment\n",
       "0   Really good ! It is worth it waiting a line !A...          3\n",
       "1   Excellent!  We had a great time and a great ex...          4\n",
       "2   Reserved here for a party of 4 birthday dinner...          4\n",
       "3   I have actually left a 5 star review in the pa...          1\n",
       "4   Memorably delicious.  We understood the assign...          4\n",
       "5   This popular eatery is located in little Italy...          3\n",
       "6   Food seems to taste better with your loved one...          1\n",
       "7   Sotto Mare is one of many delicious seafood re...          3\n",
       "8   Excellent prices, food quality and service! I ...          4\n",
       "9   5 STARS.Sotto Mare is easily one of the best p...          4\n",
       "10  Classic SF. They know what they're doing. Nice...          3"
      ]
     },
     "execution_count": 40,
     "metadata": {},
     "output_type": "execute_result"
    }
   ],
   "source": [
    "df"
   ]
  }
 ],
 "metadata": {
  "kernelspec": {
   "display_name": "Python 3 (ipykernel)",
   "language": "python",
   "name": "python3"
  },
  "language_info": {
   "codemirror_mode": {
    "name": "ipython",
    "version": 3
   },
   "file_extension": ".py",
   "mimetype": "text/x-python",
   "name": "python",
   "nbconvert_exporter": "python",
   "pygments_lexer": "ipython3",
   "version": "3.9.19"
  }
 },
 "nbformat": 4,
 "nbformat_minor": 5
}
